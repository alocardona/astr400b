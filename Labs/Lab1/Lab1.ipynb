{
 "cells": [
  {
   "cell_type": "markdown",
   "metadata": {},
   "source": [
    "# In Class Lab 1\n",
    "\n",
    "### Due by midnight, thursday in your github repository 'Labs/Lab1' folder\n"
   ]
  },
  {
   "cell_type": "code",
   "execution_count": 5,
   "metadata": {},
   "outputs": [],
   "source": [
    "# Import Modules \n",
    "import numpy as np # import numpy\n",
    "import astropy.units as u # import astropy units\n",
    "from astropy import constants as const # import astropy constants"
   ]
  },
  {
   "cell_type": "markdown",
   "metadata": {},
   "source": [
    "### Astropy Units:  https://docs.astropy.org/en/stable/units/index.html"
   ]
  },
  {
   "cell_type": "markdown",
   "metadata": {},
   "source": [
    "\n",
    "## Part A:  The Local Standard of Rest\n",
    "Proper motion of Sgr A* from Reid & Brunthaler 2004\n",
    "$\\mu = 6.379$ mas/yr \n",
    "\n",
    "Peculiar motion of the sun, $v_\\odot$ = 12.24 km/s  (Schonrich 2010)\n",
    "\n",
    "\n",
    "$v_{tan} = 4.74 \\frac{\\mu}{\\rm mas/yr} \\frac{R_o}{\\rm kpc} = V_{LSR} + v_\\odot$\n",
    "\n",
    "\n",
    "### a)\n",
    "\n",
    "Create a function called VLSR to compute the local standard of res (V$_{LSR}$).\n",
    "\n",
    "The function should take as input: the solar radius (R$_o$), the proper motion (mu)\n",
    "and the peculiar motion of the sun in the $v_\\odot$ direction.\n",
    "\n",
    "Compute V$_{LSR}$ using three different values R$_o$: \n",
    "1. Water Maser Distance for the Sun :  R$_o$ = 8.34 kpc   (Reid 2014 ApJ 783) \n",
    "2. GRAVITY Collaboration Distance for the Sun:  R$_o$ = 8.178 kpc   (Abuter+2019 A&A 625)\n",
    "3. Value for Distance to Sun listed in Sparke & Gallagher : R$_o$ = 7.9 kpc \n"
   ]
  },
  {
   "cell_type": "code",
   "execution_count": 53,
   "metadata": {},
   "outputs": [
    {
     "name": "stdout",
     "output_type": "stream",
     "text": [
      "local standard of rest for radius= 8.34 kpc is vLSR= 239.932 km / s\n",
      "local standard of rest for radius= 8.178 kpc is vLSR= 235.034 km / s\n",
      "local standard of rest for radius= 7.9 kpc is vLSR= 226.628 km / s\n"
     ]
    }
   ],
   "source": [
    "mu=6.379\n",
    "v_motion=12.24*u.km/u.s\n",
    "\n",
    "def VLSR(radius,mu,v_motion):\n",
    "    '''\n",
    "    function that computes velocity at the\n",
    "    local standard of rest\n",
    "    inputs: radius = distance from the sun to galactic center\n",
    "            mu = proper motion of SagA*\n",
    "            v_motion = peculiar motion of the Sun in the v direction\n",
    "    '''\n",
    "    v_tan = 4.74*(mu)*radius\n",
    "    vLSR = np.round(v_tan*u.km/u.s-v_motion,3)\n",
    "    return vLSR\n",
    "\n",
    "# call function for different distances to galactic center\n",
    "R_reid = 8.34\n",
    "vLSR_reid = VLSR(R_reid,mu,v_motion)\n",
    "print('local standard of rest for radius=',R_reid,'kpc is vLSR=',vLSR_reid)\n",
    "\n",
    "R_abuter = 8.178\n",
    "vLSR_abuter = VLSR(R_abuter,mu,v_motion)\n",
    "print('local standard of rest for radius=',R_abuter,'kpc is vLSR=',vLSR_abuter)\n",
    "\n",
    "R_sparkegallagher = 7.9\n",
    "vLSR_sparke = VLSR(R_sparkegallagher,mu,v_motion)\n",
    "print('local standard of rest for radius=',R_sparkegallagher,'kpc is vLSR=',vLSR_sparke)"
   ]
  },
  {
   "cell_type": "markdown",
   "metadata": {},
   "source": [
    "### b)\n",
    "\n",
    "compute the orbital period of the sun in Gyr using R$_o$ from the GRAVITY Collaboration (assume circular orbit)\n",
    "\n",
    "Note that 1 km/s $\\sim$ 1kpc/Gyr"
   ]
  },
  {
   "cell_type": "code",
   "execution_count": 63,
   "metadata": {},
   "outputs": [
    {
     "name": "stdout",
     "output_type": "stream",
     "text": [
      "orbital period of the Sun: p= 0.203 Gyr\n"
     ]
    }
   ],
   "source": [
    "\n",
    "#orbital period = 2piR/V\n",
    "def TorbSun(R,v):\n",
    "    '''\n",
    "    this function computed the orbital period of the Sun\n",
    "    inputs: R = distance from Sun to galactic center in kpc, v = velocity of the Sun\n",
    "    along the direction of the circular speed in km/s\n",
    "    '''\n",
    "    #convertions using astropy\n",
    "    vkpcGyr = v.to(u.kpc/u.Gyr) #cinverting velocity from km/s to kpc/Gyr\n",
    "    \n",
    "    T = (2*np.pi*R*u.kpc)/vkpcGyr\n",
    "\n",
    "    return T \n",
    "\n",
    "#define inputs and call function\n",
    "v_pec = 12.24*u.km/u.s\n",
    "vSun = vLSR_abuter +  v_pec \n",
    "\n",
    "T_sun = TorbSun(R_abuter,vSun)\n",
    "print('orbital period of the Sun: p=',np.round(T_sun,3))\n"
   ]
  },
  {
   "cell_type": "markdown",
   "metadata": {},
   "source": [
    "c)\n",
    "Compute the number of rotations about the GC over the age of the universe (13.8 Gyr)"
   ]
  },
  {
   "cell_type": "code",
   "execution_count": 67,
   "metadata": {},
   "outputs": [
    {
     "name": "stdout",
     "output_type": "stream",
     "text": [
      "Number of Sun rotations about the galactic center over the age of the universe: 67.91785913646484\n"
     ]
    }
   ],
   "source": [
    "uni_age = 13.8*u.Gyr\n",
    "num = uni_age/T_sun\n",
    "print('Number of Sun rotations about the galactic center over the age of the universe:',num)"
   ]
  },
  {
   "cell_type": "markdown",
   "metadata": {},
   "source": [
    "## Part B  Dark Matter Density Profiles\n",
    "\n",
    "### a)\n",
    "Try out Fitting Rotation Curves \n",
    "[here](http://wittman.physics.ucdavis.edu/Animations/RotationCurve/GalacticRotation.html)\n",
    "\n",
    "\n",
    "### b)\n",
    "\n",
    "\n",
    "In the Isothermal Sphere model, what is the mass enclosed within the solar radius (R$_o$) in units of M$_\\odot$? \n",
    "\n",
    "Recall that for the Isothermal sphere :\n",
    "$\\rho(r) = \\frac{V_{LSR}^2}{4\\pi G r^2}$\n",
    "\n",
    "Where $G$ = 4.4985e-6 kpc$^3$/Gyr$^2$/M$_\\odot$, r is in kpc and $V_{LSR}$ is in km/s\n",
    "\n",
    "What about at 260 kpc (in units of  M$_\\odot$) ? "
   ]
  },
  {
   "cell_type": "code",
   "execution_count": 83,
   "metadata": {},
   "outputs": [
    {
     "name": "stdout",
     "output_type": "stream",
     "text": [
      "Mass enclosed within a radius of 8.178 kpc is M= 1.05e+11 solMass\n",
      "Mass enclosed within a radius of 260.0 kpc is M= 3.34e+12 solMass\n"
     ]
    }
   ],
   "source": [
    "# gravitational constant in correct units\n",
    "G = const.G.to(u.kpc**3/u.Gyr**2/u.Msun)\n",
    "\n",
    "# find mass from density distribution by integrating rho over volume\n",
    "# dV = 4*np.pi*R_sun**2*dr\n",
    "# rho = (vLSR**2)/(4*np.pi*G*R_sun**2) * dV simplifies to vLSR**2/Gr\n",
    "\n",
    "R_sun = R_abuter*u.kpc #in kpc\n",
    "\n",
    "def massIso(r,vLSR):\n",
    "    '''\n",
    "    this function will compute the dark matter mass enclosed\n",
    "    within a given distance,r, assuming an isothermal sphere model \n",
    "    M(r) = vLSR^2/G*r\n",
    "    inputs: r = distance from galactic center in kpc, vLSR = velocity at local\n",
    "    standard of rest in km/s, M = mass enclosed within r in Msun\n",
    "    '''\n",
    "    vLSRkpcGry = vLSR.to(u.kpc/u.Gyr)\n",
    "    M = (vLSRkpcGry**2)*r/G\n",
    "    return M\n",
    "\n",
    "# call function\n",
    "#for radius where the sun is\n",
    "M = massIso(R_sun,vLSR_abuter)\n",
    "print('Mass enclosed within a radius of',R_sun,'is M=',f'{M:.2e}')\n",
    "\n",
    "#for radius of 260kpc\n",
    "M = massIso(260*u.kpc,vLSR_abuter)\n",
    "print('Mass enclosed within a radius of',260*u.kpc,'is M=',f'{M:.2e}')"
   ]
  },
  {
   "cell_type": "markdown",
   "metadata": {},
   "source": [
    "## c) \n",
    "\n",
    "The Leo I satellite is one of the fastest moving satellite galaxies we know. \n",
    "\n",
    "\n",
    "It is moving with 3D velocity of magnitude: Vtot = 196 km/s at a distance of 260 kpc (Sohn 2013 ApJ 768)\n",
    "\n",
    "If we assume that Leo I is moving at the escape speed:\n",
    "\n",
    "$v_{esc}^2 = 2|\\Phi| = 2 \\int G \\frac{\\rho(r)}{r}dV $ \n",
    "\n",
    "and assuming the Milky Way is well modeled by a Hernquist Sphere with a scale radius of $a$= 30 kpc, what is the minimum mass of the Milky Way (in units of M$_\\odot$) ?  \n",
    "\n",
    "How does this compare to estimates of the mass assuming the Isothermal Sphere model at 260 kpc (from your answer above)"
   ]
  },
  {
   "cell_type": "code",
   "execution_count": 95,
   "metadata": {},
   "outputs": [
    {
     "name": "stdout",
     "output_type": "stream",
     "text": [
      "Minimum mass so that Leo1 does not escape is M= 1.30e+12 solMass\n"
     ]
    }
   ],
   "source": [
    "# define Leo I properties\n",
    "R_leo = 260*u.kpc\n",
    "v_leo = 196*u.km/u.s\n",
    "\n",
    "# hernquist sphere potential: phi = -G*M/(r+a)\n",
    "# vesc^2 = 2*(G*M/(r+a))\n",
    "# so M = vesc^2/2/G(r+a)\n",
    "def Massmin(vesc,r,a=30*u.kpc):\n",
    "    '''\n",
    "    this function calculates the minimum mass of the Milky Way\n",
    "    needed so that Leo I satellite does not escape given the \n",
    "    escape velocity\n",
    "    inputs: vesc = escape velocity of satellite in km/s, a = Hernquist \n",
    "    sphere scale radius in kpc, r = distance from galactic center to the satellite in kpc\n",
    "    '''\n",
    "    vesckpcGyr = vesc.to(u.kpc/u.Gyr)\n",
    "    M = vesckpcGyr**2/2/G*(r+a)\n",
    "    return M\n",
    "\n",
    "#call function\n",
    "minmass = Massmin(v_leo,R_leo,a=30*u.kpc)\n",
    "print('Minimum mass so that Leo I does not escape is M=',f'{minmass:.2e}')\n",
    "    "
   ]
  }
 ],
 "metadata": {
  "kernelspec": {
   "display_name": "Python 3 (ipykernel)",
   "language": "python",
   "name": "python3"
  },
  "language_info": {
   "codemirror_mode": {
    "name": "ipython",
    "version": 3
   },
   "file_extension": ".py",
   "mimetype": "text/x-python",
   "name": "python",
   "nbconvert_exporter": "python",
   "pygments_lexer": "ipython3",
   "version": "3.12.2"
  }
 },
 "nbformat": 4,
 "nbformat_minor": 4
}
